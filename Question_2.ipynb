{
 "cells": [
  {
   "cell_type": "code",
   "execution_count": 1,
   "metadata": {},
   "outputs": [],
   "source": [
    "import pandas as pd\n",
    "import numpy as np\n",
    "import matplotlib.pyplot as plt"
   ]
  },
  {
   "cell_type": "code",
   "execution_count": 2,
   "metadata": {},
   "outputs": [
    {
     "data": {
      "text/html": [
       "<div>\n",
       "<style scoped>\n",
       "    .dataframe tbody tr th:only-of-type {\n",
       "        vertical-align: middle;\n",
       "    }\n",
       "\n",
       "    .dataframe tbody tr th {\n",
       "        vertical-align: top;\n",
       "    }\n",
       "\n",
       "    .dataframe thead th {\n",
       "        text-align: right;\n",
       "    }\n",
       "</style>\n",
       "<table border=\"1\" class=\"dataframe\">\n",
       "  <thead>\n",
       "    <tr style=\"text-align: right;\">\n",
       "      <th></th>\n",
       "      <th>B</th>\n",
       "      <th>C</th>\n",
       "      <th>D</th>\n",
       "      <th>E</th>\n",
       "      <th>F</th>\n",
       "      <th>G</th>\n",
       "      <th>H</th>\n",
       "    </tr>\n",
       "  </thead>\n",
       "  <tbody>\n",
       "    <tr>\n",
       "      <th>Output,Q</th>\n",
       "      <td>80</td>\n",
       "      <td>150</td>\n",
       "      <td>135</td>\n",
       "      <td>165</td>\n",
       "      <td>95</td>\n",
       "      <td>130</td>\n",
       "      <td>110</td>\n",
       "    </tr>\n",
       "    <tr>\n",
       "      <th>Labour,L</th>\n",
       "      <td>60</td>\n",
       "      <td>100</td>\n",
       "      <td>100</td>\n",
       "      <td>120</td>\n",
       "      <td>70</td>\n",
       "      <td>90</td>\n",
       "      <td>80</td>\n",
       "    </tr>\n",
       "    <tr>\n",
       "      <th>Capital,K</th>\n",
       "      <td>50</td>\n",
       "      <td>100</td>\n",
       "      <td>80</td>\n",
       "      <td>100</td>\n",
       "      <td>60</td>\n",
       "      <td>80</td>\n",
       "      <td>70</td>\n",
       "    </tr>\n",
       "  </tbody>\n",
       "</table>\n",
       "</div>"
      ],
      "text/plain": [
       "            B    C    D    E   F    G    H\n",
       "Output,Q   80  150  135  165  95  130  110\n",
       "Labour,L   60  100  100  120  70   90   80\n",
       "Capital,K  50  100   80  100  60   80   70"
      ]
     },
     "execution_count": 2,
     "metadata": {},
     "output_type": "execute_result"
    }
   ],
   "source": [
    "Data= {'B':[80,60,50],'C':[150,100,100], 'D':[135,100,80], 'E':[165,120,100], 'F':[95,70,60], 'G':[130,90,80], 'H':[110,80,70]}\n",
    "country= pd.DataFrame(data=Data, index= ['Output,Q','Labour,L','Capital,K'])\n",
    "country.head()"
   ]
  },
  {
   "cell_type": "code",
   "execution_count": 4,
   "metadata": {},
   "outputs": [
    {
     "name": "stdout",
     "output_type": "stream",
     "text": [
      "Output,Q mean is 123.57142857142857\n",
      "Labour,L mean is 88.57142857142857\n",
      "Capital,K mean is 77.14285714285714\n"
     ]
    }
   ],
   "source": [
    "Output_mean=country.iloc[0].mean()\n",
    "print (\"Output,Q mean is\",Output_mean)\n",
    "Labour_mean=country.iloc[1].mean()\n",
    "print('Labour,L mean is',Labour_mean)\n",
    "Capital_mean=country.iloc[2].mean()\n",
    "print('Capital,K mean is',Capital_mean)"
   ]
  },
  {
   "cell_type": "code",
   "execution_count": 5,
   "metadata": {},
   "outputs": [
    {
     "name": "stdout",
     "output_type": "stream",
     "text": [
      "Output,Q variance is 914.2857142857143\n",
      "Labour,L variance is 414.2857142857143\n",
      "Capital,K variance is 357.14285714285717\n"
     ]
    }
   ],
   "source": [
    "Output_var=country.iloc[0].var()\n",
    "print (\"Output,Q variance is\",Output_var)\n",
    "Labour_var=country.iloc[1].var()\n",
    "print('Labour,L variance is',Labour_var)\n",
    "Capital_var=country.iloc[2].var()\n",
    "print('Capital,K variance is',Capital_var)"
   ]
  },
  {
   "cell_type": "code",
   "execution_count": 6,
   "metadata": {},
   "outputs": [
    {
     "name": "stdout",
     "output_type": "stream",
     "text": [
      "Output,Q Standard Deviation is 30.237157840738178\n",
      "Labour,L Standard Deviation is 20.354009783964297\n",
      "Capital,K Standard Deviation is 18.89822365046136\n"
     ]
    }
   ],
   "source": [
    "Output_std=country.iloc[0].std()\n",
    "print (\"Output,Q Standard Deviation is\",Output_std)\n",
    "Labour_std=country.iloc[1].std()\n",
    "print('Labour,L Standard Deviation is',Labour_std)\n",
    "Capital_std=country.iloc[2].std()\n",
    "print('Capital,K Standard Deviation is',Capital_std)"
   ]
  },
  {
   "cell_type": "code",
   "execution_count": 7,
   "metadata": {},
   "outputs": [
    {
     "name": "stdout",
     "output_type": "stream",
     "text": [
      "Output,Q median is 130.0\n",
      "Labour,L median is 90.0\n",
      "Capital,K median is 80.0\n"
     ]
    }
   ],
   "source": [
    "Output_median=country.iloc[0].median()\n",
    "print (\"Output,Q median is\",Output_median)\n",
    "Labour_median=country.iloc[1].median()\n",
    "print('Labour,L median is',Labour_median)\n",
    "Capital_median=country.iloc[2].median()\n",
    "print('Capital,K median is',Capital_median)"
   ]
  },
  {
   "cell_type": "code",
   "execution_count": 8,
   "metadata": {},
   "outputs": [
    {
     "data": {
      "text/plain": [
       "Text(0, 0.5, 'Sample')"
      ]
     },
     "execution_count": 8,
     "metadata": {},
     "output_type": "execute_result"
    },
    {
     "data": {
      "image/png": "[encoded data removed]",
      "text/plain": [
       "<Figure size 432x288 with 1 Axes>"
      ]
     },
     "metadata": {
      "needs_background": "light"
     },
     "output_type": "display_data"
    }
   ],
   "source": [
    "country_Output= country.iloc[0]\n",
    "plt.hist(country_Output,bins=5)\n",
    "plt.xlabel('Output,Q')\n",
    "plt.ylabel('Sample')\n"
   ]
  },
  {
   "cell_type": "code",
   "execution_count": 9,
   "metadata": {},
   "outputs": [
    {
     "data": {
      "text/plain": [
       "Text(0, 0.5, 'Sample')"
      ]
     },
     "execution_count": 9,
     "metadata": {},
     "output_type": "execute_result"
    },
    {
     "data": {
      "image/png": "[encoded data removed]",
      "text/plain": [
       "<Figure size 432x288 with 1 Axes>"
      ]
     },
     "metadata": {
      "needs_background": "light"
     },
     "output_type": "display_data"
    }
   ],
   "source": [
    "country_Labour=country.iloc[1]\n",
    "plt.hist(country_Labour,bins=5)\n",
    "plt.xlabel('Labour,L')\n",
    "plt.ylabel('Sample')"
   ]
  },
  {
   "cell_type": "code",
   "execution_count": 10,
   "metadata": {},
   "outputs": [
    {
     "data": {
      "text/html": [
       "<div>\n",
       "<style scoped>\n",
       "    .dataframe tbody tr th:only-of-type {\n",
       "        vertical-align: middle;\n",
       "    }\n",
       "\n",
       "    .dataframe tbody tr th {\n",
       "        vertical-align: top;\n",
       "    }\n",
       "\n",
       "    .dataframe thead th {\n",
       "        text-align: right;\n",
       "    }\n",
       "</style>\n",
       "<table border=\"1\" class=\"dataframe\">\n",
       "  <thead>\n",
       "    <tr style=\"text-align: right;\">\n",
       "      <th></th>\n",
       "      <th>B</th>\n",
       "      <th>C</th>\n",
       "      <th>D</th>\n",
       "      <th>E</th>\n",
       "      <th>F</th>\n",
       "      <th>G</th>\n",
       "      <th>H</th>\n",
       "    </tr>\n",
       "  </thead>\n",
       "  <tbody>\n",
       "    <tr>\n",
       "      <th>Output,Q</th>\n",
       "      <td>4.382027</td>\n",
       "      <td>5.010635</td>\n",
       "      <td>4.905275</td>\n",
       "      <td>5.105945</td>\n",
       "      <td>4.553877</td>\n",
       "      <td>4.867534</td>\n",
       "      <td>4.700480</td>\n",
       "    </tr>\n",
       "    <tr>\n",
       "      <th>Labour,L</th>\n",
       "      <td>4.094345</td>\n",
       "      <td>4.605170</td>\n",
       "      <td>4.605170</td>\n",
       "      <td>4.787492</td>\n",
       "      <td>4.248495</td>\n",
       "      <td>4.499810</td>\n",
       "      <td>4.382027</td>\n",
       "    </tr>\n",
       "    <tr>\n",
       "      <th>Capital,K</th>\n",
       "      <td>3.912023</td>\n",
       "      <td>4.605170</td>\n",
       "      <td>4.382027</td>\n",
       "      <td>4.605170</td>\n",
       "      <td>4.094345</td>\n",
       "      <td>4.382027</td>\n",
       "      <td>4.248495</td>\n",
       "    </tr>\n",
       "  </tbody>\n",
       "</table>\n",
       "</div>"
      ],
      "text/plain": [
       "                  B         C         D         E         F         G  \\\n",
       "Output,Q   4.382027  5.010635  4.905275  5.105945  4.553877  4.867534   \n",
       "Labour,L   4.094345  4.605170  4.605170  4.787492  4.248495  4.499810   \n",
       "Capital,K  3.912023  4.605170  4.382027  4.605170  4.094345  4.382027   \n",
       "\n",
       "                  H  \n",
       "Output,Q   4.700480  \n",
       "Labour,L   4.382027  \n",
       "Capital,K  4.248495  "
      ]
     },
     "execution_count": 10,
     "metadata": {},
     "output_type": "execute_result"
    }
   ],
   "source": [
    "#ln(Q)=ln(A) + alpha*ln(L)+beta*ln(K)\n",
    "Country=np.log(country)\n",
    "#log values of the data\n",
    "Country"
   ]
  },
  {
   "cell_type": "code",
   "execution_count": 11,
   "metadata": {},
   "outputs": [
    {
     "name": "stdout",
     "output_type": "stream",
     "text": [
      "   Output,Q  Labour,L  Capital,K  Estimation Output,Q\n",
      "B  4.382027  4.094345   3.912023             4.381890\n",
      "C  5.010635  4.605170   4.605170             5.014674\n",
      "D  4.905275  4.605170   4.382027             4.901151\n",
      "E  5.105945  4.787492   4.605170             5.114664\n",
      "F  4.553877  4.248495   4.094345             4.559185\n",
      "G  4.867534  4.499810   4.382027             4.843369\n",
      "H  4.700480  4.382027   4.248495             4.710840\n",
      "The values of alpha and beta are [[0.54842747 0.50874094]]\n",
      "the value of Intercept is [0.14623321]\n",
      "The value of sum of alpha and beta is 1.0571684057723618\n"
     ]
    }
   ],
   "source": [
    "# Multi Regression Modelling\n",
    "# ln(Q)=ln(A) + alpha*ln(L)+beta*ln(K)  ,the equation is linear where alpha and beta are slope and A is intercept\n",
    "Country = np.log(country.T)\n",
    "Country #natural log of Q,L and K\n",
    "from sklearn import linear_model\n",
    "regr = linear_model.LinearRegression()\n",
    "regr.fit(Country[['Labour,L','Capital,K']],Country[['Output,Q']])\n",
    "Country['Estimation Output,Q'] = regr.predict(Country[['Labour,L','Capital,K']])\n",
    "print (Country)\n",
    "\n",
    "#coefficinet (that is value of alpha nad beta)\n",
    "coefficents=regr.coef_\n",
    "intercept=regr.intercept_\n",
    "print('The values of alpha and beta are',coefficents)\n",
    "print('the value of Intercept is',intercept)\n",
    "sumed=np.sum(coefficents)\n",
    "print('The value of sum of alpha and beta is',sumed)\n",
    " \n"
   ]
  },
  {
   "cell_type": "code",
   "execution_count": 12,
   "metadata": {
    "scrolled": true
   },
   "outputs": [
    {
     "data": {
      "text/plain": [
       "Text(0, 0.5, 'Residual')"
      ]
     },
     "execution_count": 12,
     "metadata": {},
     "output_type": "execute_result"
    },
    {
     "data": {
      "image/png": "[encoded data removed]",
      "text/plain": [
       "<Figure size 432x288 with 1 Axes>"
      ]
     },
     "metadata": {
      "needs_background": "light"
     },
     "output_type": "display_data"
    }
   ],
   "source": [
    "#residual plot of Labour and Output\n",
    "import seaborn as sns\n",
    "y = Country[['Output,Q']]\n",
    "x = Country[['Labour,L']]\n",
    "sns.residplot(x,y)\n",
    "plt.xlabel('Labour,L')\n",
    "plt.ylabel('Residual')\n"
   ]
  },
  {
   "cell_type": "code",
   "execution_count": 13,
   "metadata": {},
   "outputs": [
    {
     "data": {
      "text/plain": [
       "Text(0, 0.5, 'Residual')"
      ]
     },
     "execution_count": 13,
     "metadata": {},
     "output_type": "execute_result"
    },
    {
     "data": {
      "image/png": "[encoded data removed]",
      "text/plain": [
       "<Figure size 432x288 with 1 Axes>"
      ]
     },
     "metadata": {
      "needs_background": "light"
     },
     "output_type": "display_data"
    }
   ],
   "source": [
    "#residual plot of Capital and Output\n",
    "import seaborn as sns\n",
    "y = Country[['Output,Q']]\n",
    "x = Country[['Capital,K']]\n",
    "sns.residplot(x,y)\n",
    "plt.xlabel('Capital,K')\n",
    "plt.ylabel('Residual')\n"
   ]
  },
  {
   "cell_type": "code",
   "execution_count": 14,
   "metadata": {},
   "outputs": [
    {
     "data": {
      "text/plain": [
       "Text(0, 0.5, 'Residuals,e')"
      ]
     },
     "execution_count": 14,
     "metadata": {},
     "output_type": "execute_result"
    },
    {
     "data": {
      "image/png": "[encoded data removed]",
      "text/plain": [
       "<Figure size 432x288 with 1 Axes>"
      ]
     },
     "metadata": {
      "needs_background": "light"
     },
     "output_type": "display_data"
    }
   ],
   "source": [
    "y_hat=regr.predict(Country[['Labour,L','Capital,K']])\n",
    "y = Country[['Output,Q']]\n",
    "e= y-y_hat\n",
    "#In case of multiregression residual plot is plot with y_hat on xaxis and residuals on y axis\n",
    "plt.scatter(y_hat,e)\n",
    "plt.xlabel('Estimated Output,Q')\n",
    "plt.ylabel('Residuals,e')"
   ]
  },
  {
   "cell_type": "code",
   "execution_count": 15,
   "metadata": {},
   "outputs": [
    {
     "name": "stdout",
     "output_type": "stream",
     "text": [
      "R^2: 0.997913215612455\n"
     ]
    }
   ],
   "source": [
    "from sklearn import metrics\n",
    "x = Country[['Labour,L','Capital,K']]\n",
    "y_hat = regr.predict(x)\n",
    "y = Country[['Output,Q']]\n",
    "print ('R^2:', metrics.r2_score(y_hat,y))"
   ]
  },
  {
   "cell_type": "code",
   "execution_count": null,
   "metadata": {},
   "outputs": [],
   "source": []
  },
  {
   "cell_type": "code",
   "execution_count": null,
   "metadata": {
    "scrolled": true
   },
   "outputs": [],
   "source": []
  },
  {
   "cell_type": "code",
   "execution_count": null,
   "metadata": {},
   "outputs": [],
   "source": []
  },
  {
   "cell_type": "code",
   "execution_count": null,
   "metadata": {},
   "outputs": [],
   "source": []
  },
  {
   "cell_type": "code",
   "execution_count": null,
   "metadata": {},
   "outputs": [],
   "source": []
  }
 ],
 "metadata": {
  "kernelspec": {
   "display_name": "Python 3",
   "language": "python",
   "name": "python3"
  },
  "language_info": {
   "codemirror_mode": {
    "name": "ipython",
    "version": 3
   },
   "file_extension": ".py",
   "mimetype": "text/x-python",
   "name": "python",
   "nbconvert_exporter": "python",
   "pygments_lexer": "ipython3",
   "version": "3.7.3"
  }
 },
 "nbformat": 4,
 "nbformat_minor": 2
}
